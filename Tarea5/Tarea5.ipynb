{
 "cells": [
  {
   "cell_type": "markdown",
   "metadata": {},
   "source": [
    "GENERADOR CONGRUENCIAL"
   ]
  },
  {
   "cell_type": "code",
   "execution_count": 1,
   "metadata": {},
   "outputs": [],
   "source": [
    "uniforme = function(n, semilla) {\n",
    "    a = 5\n",
    "    c = 4\n",
    "    m = 8\n",
    "    \n",
    "    datos = numeric()\n",
    "    x = semilla\n",
    "    \n",
    "    while (length(datos)<n){\n",
    "        x=(a*x + c) %%m\n",
    "        datos=c(datos,x)\n",
    "    }\n",
    "    return(datos/(m-1))\n",
    "}"
   ]
  },
  {
   "cell_type": "code",
   "execution_count": 2,
   "metadata": {},
   "outputs": [
    {
     "data": {
      "text/html": [
       "<style>\n",
       ".list-inline {list-style: none; margin:0; padding: 0}\n",
       ".list-inline>li {display: inline-block}\n",
       ".list-inline>li:not(:last-child)::after {content: \"\\00b7\"; padding: 0 .5ex}\n",
       "</style>\n",
       "<ol class=list-inline><li>0.857142857142857</li><li>0.285714285714286</li><li>0.857142857142857</li><li>0.285714285714286</li><li>0.857142857142857</li><li>0.285714285714286</li><li>0.857142857142857</li><li>0.285714285714286</li><li>0.857142857142857</li><li>0.285714285714286</li></ol>\n"
      ],
      "text/latex": [
       "\\begin{enumerate*}\n",
       "\\item 0.857142857142857\n",
       "\\item 0.285714285714286\n",
       "\\item 0.857142857142857\n",
       "\\item 0.285714285714286\n",
       "\\item 0.857142857142857\n",
       "\\item 0.285714285714286\n",
       "\\item 0.857142857142857\n",
       "\\item 0.285714285714286\n",
       "\\item 0.857142857142857\n",
       "\\item 0.285714285714286\n",
       "\\end{enumerate*}\n"
      ],
      "text/markdown": [
       "1. 0.857142857142857\n",
       "2. 0.285714285714286\n",
       "3. 0.857142857142857\n",
       "4. 0.285714285714286\n",
       "5. 0.857142857142857\n",
       "6. 0.285714285714286\n",
       "7. 0.857142857142857\n",
       "8. 0.285714285714286\n",
       "9. 0.857142857142857\n",
       "10. 0.285714285714286\n",
       "\n",
       "\n"
      ],
      "text/plain": [
       " [1] 0.8571429 0.2857143 0.8571429 0.2857143 0.8571429 0.2857143 0.8571429\n",
       " [8] 0.2857143 0.8571429 0.2857143"
      ]
     },
     "metadata": {},
     "output_type": "display_data"
    }
   ],
   "source": [
    "uniforme(10,10)"
   ]
  },
  {
   "cell_type": "code",
   "execution_count": 9,
   "metadata": {},
   "outputs": [],
   "source": [
    "uniforme = function(n, semilla) {\n",
    "    a = 16385\n",
    "    c = 8191\n",
    "    m = 65536\n",
    "    \n",
    "    datos = numeric()\n",
    "    x = semilla\n",
    "    \n",
    "    while (length(datos)<n){\n",
    "        x=(a*x + c) %%m\n",
    "        datos=c(datos,x)\n",
    "    }\n",
    "    return(datos/(m-1))\n",
    "}"
   ]
  },
  {
   "cell_type": "code",
   "execution_count": 4,
   "metadata": {},
   "outputs": [],
   "source": [
    "uniforme = function(n, semilla) {\n",
    "    a = 11551\n",
    "    c = 27077\n",
    "    m = 39709\n",
    "    \n",
    "    datos = numeric()\n",
    "    x = semilla\n",
    "    \n",
    "    while (length(datos)<n){\n",
    "        x=(a*x + c) %%m\n",
    "        datos=c(datos,x)\n",
    "    }\n",
    "    return(datos/(m-1))\n",
    "}"
   ]
  },
  {
   "cell_type": "code",
   "execution_count": 10,
   "metadata": {},
   "outputs": [],
   "source": [
    "x<-uniforme(65536,10)"
   ]
  },
  {
   "cell_type": "code",
   "execution_count": 6,
   "metadata": {},
   "outputs": [
    {
     "name": "stderr",
     "output_type": "stream",
     "text": [
      "Loading required package: orthopolynom\n",
      "\n",
      "Loading required package: polynom\n",
      "\n"
     ]
    }
   ],
   "source": [
    "library('uniftest')\n",
    "library('orthopolynom')\n",
    "library('polynom')"
   ]
  },
  {
   "cell_type": "code",
   "execution_count": 11,
   "metadata": {},
   "outputs": [],
   "source": [
    "b=sample(x,size = 4000)"
   ]
  },
  {
   "cell_type": "code",
   "execution_count": 12,
   "metadata": {},
   "outputs": [
    {
     "data": {
      "text/plain": [
       "\n",
       "\tSherman test for uniformity\n",
       "\n",
       "data:  b\n",
       "W = 0.35736, p-value = 0.9945\n"
      ]
     },
     "metadata": {},
     "output_type": "display_data"
    }
   ],
   "source": [
    "uniftest::sherman.unif.test(b)"
   ]
  },
  {
   "cell_type": "markdown",
   "metadata": {},
   "source": [
    " Gaussian\n"
   ]
  },
  {
   "cell_type": "code",
   "execution_count": 13,
   "metadata": {},
   "outputs": [],
   "source": [
    "gaussian0 <- function(mu, sigma) {\n",
    "    u = runif(2)\n",
    "    z0 = sqrt(-2*log(u[1]))*cos(2*pi*u[2])\n",
    "    z1 = sqrt(-2 * log(u[1]))*sin(2*pi*u[2])\n",
    "    datos=c(z0,z1)\n",
    "    return(sigma*datos+mu)\n",
    "}"
   ]
  },
  {
   "cell_type": "code",
   "execution_count": 14,
   "metadata": {},
   "outputs": [],
   "source": [
    "gaussian1 <- function(mu, sigma) {\n",
    "    u = runif(2)\n",
    "    z0 = sqrt(-2*log(u[1]))*cos(2*pi*u[2])\n",
    "    datos=c(z0)\n",
    "    return(sigma*datos+mu)\n",
    "}"
   ]
  },
  {
   "cell_type": "code",
   "execution_count": 15,
   "metadata": {},
   "outputs": [],
   "source": [
    "gaussian2 <- function(mu, sigma) {\n",
    "    u = runif(2)\n",
    "    z1 = sqrt(-2 * log(u[1]))*sin(2*pi*u[2])\n",
    "    datos=c(z1)\n",
    "    return(sigma*datos+mu)\n",
    "}"
   ]
  },
  {
   "cell_type": "code",
   "execution_count": 16,
   "metadata": {},
   "outputs": [],
   "source": [
    "n=5000\n",
    "m=10\n",
    "desv=2\n",
    "orig=rnorm(n,m,desv)\n",
    "\n",
    "pvalue0=numeric()\n",
    "tiempo0=numeric()\n",
    "for (i in 1:500){\n",
    "    \n",
    "    nuevo=numeric()\n",
    "    start<-Sys.time()\n",
    "    while(length(nuevo)<n){\n",
    "        nuevo=c(nuevo,gaussian0(m,desv))\n",
    "    }\n",
    "    end<-Sys.time()\n",
    "    pvalue0=c(pvalue0,shapiro.test(nuevo)$p)\n",
    "    tiempo0=c(tiempo0,end-start)\n",
    "}\n",
    "\n",
    "pvalue1 = numeric()\n",
    "for (i in 1:500){ \n",
    "    nuevo1=numeric()\n",
    "    while(length(nuevo1)<n){\n",
    "        nuevo1=c(nuevo1,gaussian1(m,desv))\n",
    "    }\n",
    "    pvalue1=c(pvalue1, shapiro.test(nuevo1)$p)\n",
    "}\n",
    "\n",
    "pvalue2 = numeric()\n",
    "for (i in 1:500){\n",
    "    nuevo2=numeric()\n",
    "    while(length(nuevo2)<n){\n",
    "        nuevo2=c(nuevo2,gaussian2(m,desv))\n",
    "    }\n",
    "    pvalue2=c(pvalue2, shapiro.test(nuevo2)$p)\n",
    "}"
   ]
  },
  {
   "cell_type": "code",
   "execution_count": 8,
   "metadata": {},
   "outputs": [
    {
     "data": {
      "text/html": [
       "<strong>pdf:</strong> 2"
      ],
      "text/latex": [
       "\\textbf{pdf:} 2"
      ],
      "text/markdown": [
       "**pdf:** 2"
      ],
      "text/plain": [
       "pdf \n",
       "  2 "
      ]
     },
     "metadata": {},
     "output_type": "display_data"
    }
   ],
   "source": [
    "png(file=\"boxmuller.png\",\n",
    "    width=3000, height=3000, res = 400)\n",
    "par(mfrow=c(2,2))\n",
    "hist(orig, main='', ylab='Frecuencia', xlab='Usando rnorm', col='skyblue4',breaks=seq(0,20,1))\n",
    "hist(nuevo,main='', ylab='Frecuencia', xlab='Usando z0 y z1', col='skyblue4',breaks=seq(0,20,1)) #usando los 2\n",
    "hist(nuevo1,main='', ylab='Frecuencia', xlab='Usando z0', col='skyblue4',breaks=seq(0,20,1)) #usando z0\n",
    "hist(nuevo2,main='', ylab='Frecuencia', xlab='Usando z1', col='skyblue4',breaks=seq(0,20,1)) #usando z1\n",
    "dev.off()"
   ]
  },
  {
   "cell_type": "code",
   "execution_count": 17,
   "metadata": {},
   "outputs": [
    {
     "data": {
      "text/plain": [
       "     Min.   1st Qu.    Median      Mean   3rd Qu.      Max. \n",
       "0.0008265 0.2456136 0.4960067 0.5006720 0.7671831 0.9955109 "
      ]
     },
     "metadata": {},
     "output_type": "display_data"
    },
    {
     "data": {
      "text/plain": [
       "    Min.  1st Qu.   Median     Mean  3rd Qu.     Max. \n",
       "0.000877 0.277837 0.515811 0.512121 0.750982 0.999742 "
      ]
     },
     "metadata": {},
     "output_type": "display_data"
    },
    {
     "data": {
      "text/plain": [
       "    Min.  1st Qu.   Median     Mean  3rd Qu.     Max. \n",
       "0.002631 0.249225 0.511406 0.497059 0.737258 0.992380 "
      ]
     },
     "metadata": {},
     "output_type": "display_data"
    }
   ],
   "source": [
    "summary(pvalue0)\n",
    "summary(pvalue1)\n",
    "summary(pvalue2)"
   ]
  },
  {
   "cell_type": "code",
   "execution_count": 18,
   "metadata": {},
   "outputs": [
    {
     "data": {
      "text/html": [
       "469"
      ],
      "text/latex": [
       "469"
      ],
      "text/markdown": [
       "469"
      ],
      "text/plain": [
       "[1] 469"
      ]
     },
     "metadata": {},
     "output_type": "display_data"
    }
   ],
   "source": [
    "sum(pvalue0>0.05)"
   ]
  },
  {
   "cell_type": "code",
   "execution_count": 32,
   "metadata": {},
   "outputs": [],
   "source": [
    "#TLC\n",
    "\n",
    "TLC = function(n){\n",
    "    datos=numeric()\n",
    "    for(i in 1:n){\n",
    "        u=runif(50)\n",
    "        x=sum(u)-25\n",
    "        datos=c(datos,x)\n",
    "    }\n",
    " \n",
    "    return(datos)\n",
    "}\n",
    "\n",
    "\n",
    "\n",
    "pvalue3 = numeric()\n",
    "tiempo3 = numeric()\n",
    "for (i in 1:500){\n",
    "    pvalue3=c(pvalue3,shapiro.test(TLC(5000))$p)\n",
    "}\n",
    "\n"
   ]
  },
  {
   "cell_type": "code",
   "execution_count": 33,
   "metadata": {},
   "outputs": [
    {
     "data": {
      "text/html": [
       "468"
      ],
      "text/latex": [
       "468"
      ],
      "text/markdown": [
       "468"
      ],
      "text/plain": [
       "[1] 468"
      ]
     },
     "metadata": {},
     "output_type": "display_data"
    }
   ],
   "source": [
    "sum(pvalue3>0.05)"
   ]
  },
  {
   "cell_type": "code",
   "execution_count": 91,
   "metadata": {},
   "outputs": [
    {
     "data": {
      "text/html": [
       "<strong>pdf:</strong> 2"
      ],
      "text/latex": [
       "\\textbf{pdf:} 2"
      ],
      "text/markdown": [
       "**pdf:** 2"
      ],
      "text/plain": [
       "pdf \n",
       "  2 "
      ]
     },
     "metadata": {},
     "output_type": "display_data"
    }
   ],
   "source": [
    "png(file=\"tlc.png\",\n",
    "    width=3500, height=2500, res = 400)\n",
    "par(mfrow=c(1,2))\n",
    "hist(rnorm(5000),main='', ylab='Frecuencia', xlab='Usando rnorm', col='skyblue4')\n",
    "hist(TLC(5000),main='', ylab='Frecuencia', xlab='Usando TLC', col='skyblue4')\n",
    "dev.off()"
   ]
  },
  {
   "cell_type": "code",
   "execution_count": 59,
   "metadata": {},
   "outputs": [],
   "source": [
    "#Polar\n",
    "polar<-function(n){\n",
    "   valores=c()\n",
    "    while(length(valores)<n){\n",
    "    w=2\n",
    "    while(w>1){\n",
    "        u=runif(2)\n",
    "        v1=2*u[1]-1\n",
    "        v2=2*u[2]-1\n",
    "        w=v1**2 + v2**2\n",
    "    }\n",
    "    \n",
    "    y=sqrt(-2*log(w)/w)\n",
    "    x1=v1*y\n",
    "    x2=v2*y\n",
    "    datos=c(x1,x2)\n",
    "    valores=c(valores,datos)\n",
    "    }\n",
    "    return(valores)\n",
    "}"
   ]
  },
  {
   "cell_type": "code",
   "execution_count": 61,
   "metadata": {},
   "outputs": [],
   "source": [
    "pvalue4 = numeric()\n",
    "for (i in 1:500){\n",
    "    pvalue4=c(pvalue4,shapiro.test(polar(5000))$p)\n",
    "}"
   ]
  },
  {
   "cell_type": "code",
   "execution_count": 102,
   "metadata": {},
   "outputs": [
    {
     "data": {
      "text/html": [
       "474"
      ],
      "text/latex": [
       "474"
      ],
      "text/markdown": [
       "474"
      ],
      "text/plain": [
       "[1] 474"
      ]
     },
     "metadata": {},
     "output_type": "display_data"
    }
   ],
   "source": [
    "sum(pvalue4>0.05)"
   ]
  },
  {
   "cell_type": "code",
   "execution_count": 107,
   "metadata": {},
   "outputs": [
    {
     "data": {
      "text/html": [
       "<strong>pdf:</strong> 2"
      ],
      "text/latex": [
       "\\textbf{pdf:} 2"
      ],
      "text/markdown": [
       "**pdf:** 2"
      ],
      "text/plain": [
       "pdf \n",
       "  2 "
      ]
     },
     "metadata": {},
     "output_type": "display_data"
    }
   ],
   "source": [
    "png(file=\"polar.png\",\n",
    "    width=3500, height=2500, res = 400)\n",
    "par(mfrow=c(1,2))\n",
    "hist(rnorm(5000),main='', ylab='Frecuencia', xlab='Usando rnorm', col='skyblue4')\n",
    "hist(polar(5000),main='', ylab='Frecuencia', xlab='Usando polar', col='skyblue4')\n",
    "dev.off()"
   ]
  },
  {
   "cell_type": "code",
   "execution_count": 104,
   "metadata": {},
   "outputs": [
    {
     "data": {
      "text/html": [
       "<strong>pdf:</strong> 2"
      ],
      "text/latex": [
       "\\textbf{pdf:} 2"
      ],
      "text/markdown": [
       "**pdf:** 2"
      ],
      "text/plain": [
       "pdf \n",
       "  2 "
      ]
     },
     "metadata": {},
     "output_type": "display_data"
    }
   ],
   "source": [
    "png(file=\"boxplot.png\",\n",
    "    width=3500, height=2500, res = 400)\n",
    "boxplot(pvalue0, pvalue1, pvalue2,pvalue4,pvalue3, col=c('lightskyblue3','skyblue3','steelblue4','skyblue4','lightsteelblue4'), names=c('Box-Muller','z0', 'z1','Polar','TLC'), ylab='p valores')\n",
    "abline(h=0.05, col=\"Red\")\n",
    "dev.off()"
   ]
  },
  {
   "cell_type": "markdown",
   "metadata": {},
   "source": [
    "Cuando u1 y u2 no son independientes, como en los siguientes ejemplos"
   ]
  },
  {
   "cell_type": "code",
   "execution_count": 73,
   "metadata": {},
   "outputs": [],
   "source": [
    "gaussian2 <- function(mu, sigma) {\n",
    "    u1 = runif(1)\n",
    "    u2 = 1-u1\n",
    "    z0 = sqrt(-2*log(u1))*cos(2*pi*u2)\n",
    "    z1 = sqrt(-2 * log(u1))*sin(2*pi*u2)\n",
    "    datos=c(z0,z1)\n",
    "    return(sigma*datos+mu)\n",
    "}"
   ]
  },
  {
   "cell_type": "code",
   "execution_count": 95,
   "metadata": {},
   "outputs": [
    {
     "data": {
      "text/plain": [
       "     Min.   1st Qu.    Median      Mean   3rd Qu.      Max. \n",
       "2.311e-38 3.755e-37 8.729e-37 1.594e-36 1.946e-36 1.646e-35 "
      ]
     },
     "metadata": {},
     "output_type": "display_data"
    }
   ],
   "source": [
    "n=5000\n",
    "pvalue5 = numeric()\n",
    "for (i in 1:500){\n",
    "    nuevo5=numeric()\n",
    "    while(length(nuevo5)<n){\n",
    "        nuevo5=c(nuevo5,gaussian2(m,desv))\n",
    "    }  \n",
    "    pvalue5=c(pvalue5, shapiro.test(nuevo5)$p)\n",
    "}\n",
    "\n",
    "summary(pvalue5)"
   ]
  },
  {
   "cell_type": "code",
   "execution_count": 96,
   "metadata": {},
   "outputs": [
    {
     "data": {
      "text/html": [
       "0"
      ],
      "text/latex": [
       "0"
      ],
      "text/markdown": [
       "0"
      ],
      "text/plain": [
       "[1] 0"
      ]
     },
     "metadata": {},
     "output_type": "display_data"
    }
   ],
   "source": [
    "sum(pvalue5>0.05)"
   ]
  },
  {
   "cell_type": "code",
   "execution_count": 75,
   "metadata": {},
   "outputs": [
    {
     "data": {
      "text/plain": [
       "     Min.   1st Qu.    Median      Mean   3rd Qu.      Max. \n",
       "4.812e-42 6.043e-41 1.292e-40 2.649e-40 2.909e-40 5.761e-39 "
      ]
     },
     "metadata": {},
     "output_type": "display_data"
    }
   ],
   "source": [
    "gaussian3 <- function(mu, sigma) {\n",
    "    u1 = runif(1)\n",
    "    u2 = sqrt(u1)\n",
    "    z0 = sqrt(-2*log(u1))*cos(2*pi*u2)\n",
    "    z1 = sqrt(-2 * log(u1))*sin(2*pi*u2)\n",
    "    datos=c(z0,z1)\n",
    "    return(sigma*datos+mu)\n",
    "}\n",
    "\n",
    "pvalue6 = numeric()\n",
    "for (i in 1:500){\n",
    "    nuevo6=numeric()\n",
    "    while(length(nuevo6)<n){\n",
    "        nuevo6=c(nuevo6,gaussian3(m,desv))\n",
    "    }  \n",
    "    pvalue6=c(pvalue6, shapiro.test(nuevo6)$p)\n",
    "}\n",
    "\n",
    "summary(pvalue6)"
   ]
  },
  {
   "cell_type": "code",
   "execution_count": 97,
   "metadata": {},
   "outputs": [
    {
     "data": {
      "text/html": [
       "0"
      ],
      "text/latex": [
       "0"
      ],
      "text/markdown": [
       "0"
      ],
      "text/plain": [
       "[1] 0"
      ]
     },
     "metadata": {},
     "output_type": "display_data"
    }
   ],
   "source": [
    "sum(pvalue6>0.05)"
   ]
  },
  {
   "cell_type": "code",
   "execution_count": 29,
   "metadata": {},
   "outputs": [
    {
     "data": {
      "text/plain": [
       "   Min. 1st Qu.  Median    Mean 3rd Qu.    Max. \n",
       " 0.8844  0.8844  0.8844  0.8844  0.8844  0.8844 "
      ]
     },
     "metadata": {},
     "output_type": "display_data"
    }
   ],
   "source": [
    "n=5000\n",
    "m=10\n",
    "desv=2\n",
    "\n",
    "gaussian4 <- function(mu,sigma,n) {\n",
    "    datos=numeric()\n",
    "    u=uniforme(2*n,101)\n",
    "    for (i in 1:n){\n",
    "        z0 = sqrt(-2*log(u[2*i-1]))*cos(2*pi*u[2*i])\n",
    "        z1 = sqrt(-2*log(u[2*i-1]))*sin(2*pi*u[2*i])\n",
    "        datos=c(datos,z0, z1)\n",
    "    }\n",
    "    return(sigma*datos+mu)\n",
    "}\n",
    "\n",
    "pvalue7 = numeric()\n",
    "for (i in 1:500){\n",
    "    nuevo7=numeric()\n",
    "    while(length(nuevo7)<n){\n",
    "        nuevo7=c(nuevo7,gaussian4(m,desv,2500))\n",
    "    }  \n",
    "    pvalue7=c(pvalue7, shapiro.test(nuevo7)$p)\n",
    "}\n",
    "\n",
    "\n"
   ]
  },
  {
   "cell_type": "code",
   "execution_count": 30,
   "metadata": {},
   "outputs": [
    {
     "data": {
      "text/plain": [
       "\n",
       "\tShapiro-Wilk normality test\n",
       "\n",
       "data:  gaussian4(10, 2, 2500)\n",
       "W = 0.99977, p-value = 0.8844\n"
      ]
     },
     "metadata": {},
     "output_type": "display_data"
    }
   ],
   "source": [
    "shapiro.test(gaussian4(10,2,2500))"
   ]
  },
  {
   "cell_type": "code",
   "execution_count": null,
   "metadata": {},
   "outputs": [],
   "source": []
  }
 ],
 "metadata": {
  "kernelspec": {
   "display_name": "R",
   "language": "R",
   "name": "ir"
  },
  "language_info": {
   "codemirror_mode": "r",
   "file_extension": ".r",
   "mimetype": "text/x-r-source",
   "name": "R",
   "pygments_lexer": "r",
   "version": "4.0.2"
  }
 },
 "nbformat": 4,
 "nbformat_minor": 4
}
