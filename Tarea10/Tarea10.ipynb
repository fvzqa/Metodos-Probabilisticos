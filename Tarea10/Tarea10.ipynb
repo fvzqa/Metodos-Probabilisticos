{
 "cells": [
  {
   "cell_type": "markdown",
   "metadata": {},
   "source": [
    "**Ejercicio 1** *Se saca una carta al azar de una baraja que consiste de cartas numeradas del 2 al 10. Un jugador gana un dólar si el número en la carta es impar y pierde un dólar si el número es par. ¿Cuál es el valor esperado de sus ganancias*"
   ]
  },
  {
   "cell_type": "code",
   "execution_count": 83,
   "metadata": {},
   "outputs": [],
   "source": [
    "options(scipen=999) "
   ]
  },
  {
   "cell_type": "code",
   "execution_count": 50,
   "metadata": {},
   "outputs": [],
   "source": [
    "cartas_funcion <- function(t){\n",
    "    m <- c()\n",
    "    for (j in 1:t){\n",
    "carta<-sample(x = 2:10,size = 1,replace = TRUE)\n",
    "        if(carta%%2==0){\n",
    "            ganancia <- -1\n",
    "        } else{ganancia <-1}\n",
    "        m[j] <- ganancia\n",
    "    }\n",
    "return(mean(m))   \n",
    "}"
   ]
  },
  {
   "cell_type": "code",
   "execution_count": 72,
   "metadata": {},
   "outputs": [],
   "source": [
    "data <- data.frame()\n",
    "replicas <- 100\n",
    "suppressMessages(library(doParallel))\n",
    "registerDoParallel(makeCluster(detectCores() - 1))\n",
    "\n",
    "for (pot in 1:6) {\n",
    "    tmax <- 10^pot\n",
    "    resultados <- foreach(i = 1:replicas, .combine=c) %dopar% cartas_funcion(tmax)\n",
    "    data <- rbind(data, resultados)\n",
    "}\n",
    "stopImplicitCluster()"
   ]
  },
  {
   "cell_type": "code",
   "execution_count": 108,
   "metadata": {},
   "outputs": [
    {
     "data": {
      "text/html": [
       "<strong>pdf:</strong> 2"
      ],
      "text/latex": [
       "\\textbf{pdf:} 2"
      ],
      "text/markdown": [
       "**pdf:** 2"
      ],
      "text/plain": [
       "pdf \n",
       "  2 "
      ]
     },
     "metadata": {},
     "output_type": "display_data"
    }
   ],
   "source": [
    "png(\"ej1.png\", width = 600, height = 400)\n",
    "boxplot(as.numeric(data[1,]),as.numeric(data[2,]),\n",
    "        as.numeric(data[3,]),as.numeric(data[4,]),\n",
    "        as.numeric(data[5,]),as.numeric(data[6,]),\n",
    "        col=palette(\"Pastel 2\"), ylab=\"Ganancia obtenida\", \n",
    "        xlab=\"Cantidad de cartas\",\n",
    "        names=c(10, 100, 1000, 10000, 100000, 1000000))\n",
    "abline(h=-1/9, col = \"Red\", lty = 5)\n",
    "dev.off()"
   ]
  },
  {
   "cell_type": "markdown",
   "metadata": {},
   "source": [
    "**Ejercicio 2** *Se lanza un dado dos veces. Sea X la suma de los dos números que aparecen, y sea Y la diferencia de los números (específicamente, el número que aparece primera tirada menos el número de la segunda). Demuestra que E(XY ) = E(X)E(Y ). ¿Son X e Y independientes?.*"
   ]
  },
  {
   "cell_type": "code",
   "execution_count": 80,
   "metadata": {},
   "outputs": [],
   "source": [
    "dado_funcion <- function(n){\n",
    "    m <- c()\n",
    "    for (j in 1:n){\n",
    "    dado1 <- sample(x = 1:6,size = 1,replace = TRUE)\n",
    "    dado2 <- sample(x = 1:6,size = 1,replace = TRUE)\n",
    "    dado <- dado1+dado2\n",
    "    m[j] <- dado\n",
    "    }\n",
    "return(mean(m))\n",
    "}"
   ]
  },
  {
   "cell_type": "code",
   "execution_count": 89,
   "metadata": {},
   "outputs": [],
   "source": [
    "datos_2 <- data.frame()\n",
    "replicas <- 100\n",
    "suppressMessages(library(doParallel))\n",
    "registerDoParallel(makeCluster(detectCores() - 1))\n",
    "\n",
    "for (pot in 1:6) {\n",
    "    tmax <- 10^pot\n",
    "    resultados <- foreach(i = 1:replicas, .combine=c) %dopar% dado_funcion(tmax)\n",
    "    datos_2 <- rbind(datos_2, resultados)\n",
    "}\n",
    "stopImplicitCluster()"
   ]
  },
  {
   "cell_type": "code",
   "execution_count": 109,
   "metadata": {},
   "outputs": [
    {
     "data": {
      "text/html": [
       "<strong>pdf:</strong> 2"
      ],
      "text/latex": [
       "\\textbf{pdf:} 2"
      ],
      "text/markdown": [
       "**pdf:** 2"
      ],
      "text/plain": [
       "pdf \n",
       "  2 "
      ]
     },
     "metadata": {},
     "output_type": "display_data"
    }
   ],
   "source": [
    "png(\"ej2a.png\", width = 600, height = 400)\n",
    "boxplot(as.numeric(datos_2[1,]),as.numeric(datos_2[2,]),\n",
    "        as.numeric(datos_2[3,]),as.numeric(datos_2[4,]),\n",
    "        as.numeric(datos_2[5,]),as.numeric(datos_2[6,]),\n",
    "        col=palette(\"Pastel 2\"), ylab=\"Suma de los dados\", \n",
    "        xlab=\"Cantidad de tiros\",\n",
    "        names=c(10, 100, 1000, 10000, 100000, 1000000))\n",
    "abline(h=7, col = \"Red\", lty = 5)\n",
    "dev.off()"
   ]
  },
  {
   "cell_type": "code",
   "execution_count": 101,
   "metadata": {},
   "outputs": [],
   "source": [
    "dado_resta <- function(n){\n",
    "    m <- c()\n",
    "    for (j in 1:n){\n",
    "    dado1 <- sample(x = 1:6,size = 1,replace = TRUE)\n",
    "    dado2 <- sample(x = 1:6,size = 1,replace = TRUE)\n",
    "    dado <- dado1-dado2\n",
    "    m[j] <- dado\n",
    "    }\n",
    "return(mean(m))\n",
    "}"
   ]
  },
  {
   "cell_type": "code",
   "execution_count": 102,
   "metadata": {},
   "outputs": [],
   "source": [
    "datos_3 <- data.frame()\n",
    "replicas <- 100\n",
    "suppressMessages(library(doParallel))\n",
    "registerDoParallel(makeCluster(detectCores() - 1))\n",
    "\n",
    "for (pot in 1:6) {\n",
    "    tmax <- 10^pot\n",
    "    resultados <- foreach(i = 1:replicas, .combine=c) %dopar% dado_resta(tmax)\n",
    "    datos_3 <- rbind(datos_3, resultados)\n",
    "}\n",
    "stopImplicitCluster()"
   ]
  },
  {
   "cell_type": "code",
   "execution_count": 110,
   "metadata": {},
   "outputs": [
    {
     "data": {
      "text/html": [
       "<strong>pdf:</strong> 2"
      ],
      "text/latex": [
       "\\textbf{pdf:} 2"
      ],
      "text/markdown": [
       "**pdf:** 2"
      ],
      "text/plain": [
       "pdf \n",
       "  2 "
      ]
     },
     "metadata": {},
     "output_type": "display_data"
    }
   ],
   "source": [
    "png(\"ej2b.png\", width = 600, height = 400)\n",
    "boxplot(as.numeric(datos_3[1,]),as.numeric(datos_3[2,]),\n",
    "        as.numeric(datos_3[3,]),as.numeric(datos_3[4,]),\n",
    "        as.numeric(datos_3[5,]),as.numeric(datos_3[6,]),\n",
    "        col=palette(\"Pastel 2\"), ylab=\"Resta de los dados\", \n",
    "        xlab=\"Cantidad de tiros\",\n",
    "        names=c(10, 100, 1000, 10000, 100000, 1000000))\n",
    "abline(h=0, col = \"Red\", lty = 5)\n",
    "dev.off()"
   ]
  },
  {
   "cell_type": "code",
   "execution_count": 104,
   "metadata": {},
   "outputs": [],
   "source": [
    "dado_multiplicacion <- function(n){\n",
    "    m <- c()\n",
    "    for (j in 1:n){\n",
    "    dado1 <- sample(x = 1:6,size = 1,replace = TRUE)\n",
    "    dado2 <- sample(x = 1:6,size = 1,replace = TRUE)\n",
    "    dado <- dado1^2-dado2^2\n",
    "    m[j] <- dado\n",
    "    }\n",
    "return(mean(m))\n",
    "}"
   ]
  },
  {
   "cell_type": "code",
   "execution_count": 105,
   "metadata": {},
   "outputs": [],
   "source": [
    "datos_4 <- data.frame()\n",
    "replicas <- 100\n",
    "suppressMessages(library(doParallel))\n",
    "registerDoParallel(makeCluster(detectCores() - 1))\n",
    "\n",
    "for (pot in 1:6) {\n",
    "    tmax <- 10^pot\n",
    "    resultados <- foreach(i = 1:replicas, .combine=c) %dopar% dado_multiplicacion(tmax)\n",
    "    datos_4 <- rbind(datos_4, resultados)\n",
    "}\n",
    "stopImplicitCluster()"
   ]
  },
  {
   "cell_type": "code",
   "execution_count": 111,
   "metadata": {},
   "outputs": [
    {
     "data": {
      "text/html": [
       "<strong>pdf:</strong> 2"
      ],
      "text/latex": [
       "\\textbf{pdf:} 2"
      ],
      "text/markdown": [
       "**pdf:** 2"
      ],
      "text/plain": [
       "pdf \n",
       "  2 "
      ]
     },
     "metadata": {},
     "output_type": "display_data"
    }
   ],
   "source": [
    "png(\"ej2c.png\", width = 600, height = 400)\n",
    "boxplot(as.numeric(datos_4[1,]),as.numeric(datos_4[2,]),\n",
    "        as.numeric(datos_4[3,]),as.numeric(datos_4[4,]),\n",
    "        as.numeric(datos_4[5,]),as.numeric(datos_4[6,]),\n",
    "        col=palette(\"Pastel 2\"), ylab=\"Diferencia de cuadrados de los dados\", \n",
    "        xlab=\"Cantidad de tiros\",\n",
    "        names=c(10, 100, 1000, 10000, 100000, 1000000))\n",
    "abline(h=0, col = \"Red\", lty = 5)\n",
    "dev.off()"
   ]
  },
  {
   "cell_type": "markdown",
   "metadata": {},
   "source": [
    "**Ejercicio 3** *Una caja contiene dos balones dorados y tres plateados. Se te permite tomar sucesivamente balones de la caja al azar. Ganas un dólar cada vez que tomas un balón dorado y pierdes un dólar cada vez que tomas un balón plateado. Después de tomar, el balón no es reemplazado. Demuestra que, si tomas hasta que estás por delante por un dólar o hasta que no hay más balones dorados, este es un juego favorable.*"
   ]
  },
  {
   "cell_type": "code",
   "execution_count": 175,
   "metadata": {},
   "outputs": [],
   "source": [
    "balones <- function(n) {\n",
    "    gan <- c() \n",
    "    for(j in 1:n){\n",
    "        ganancia=0\n",
    "        dorados=0\n",
    "        balon<-sample(c(1,1,-1,-1,-1))\n",
    "        for (i in 1:5){\n",
    "            if(balon[1]==1){\n",
    "                ganancia<-1\n",
    "                break\n",
    "\n",
    "            }\n",
    "            ganancia=ganancia+balon[i]\n",
    "            if(balon[i]==1){\n",
    "                dorados=dorados+1\n",
    "            }\n",
    "\n",
    "            if(ganancia==1){\n",
    "                break\n",
    "            }\n",
    "            if(dorados==2){\n",
    "                break\n",
    "            }\n",
    "        }\n",
    "         gan[j] <- ganancia \n",
    "    }\n",
    "    return(mean(gan))\n",
    "}\n",
    "\n"
   ]
  },
  {
   "cell_type": "code",
   "execution_count": 179,
   "metadata": {},
   "outputs": [],
   "source": [
    "datos_5 <- data.frame()\n",
    "replicas <- 100\n",
    "suppressMessages(library(doParallel))\n",
    "registerDoParallel(makeCluster(detectCores() - 1))\n",
    "\n",
    "for (pot in 1:6) {\n",
    "    tmax <- 10^pot\n",
    "    resultados <- foreach(i = 1:replicas, .combine=c) %dopar% balones(tmax)\n",
    "    datos_5 <- rbind(datos_5, resultados)\n",
    "}\n",
    "stopImplicitCluster()"
   ]
  },
  {
   "cell_type": "code",
   "execution_count": 111,
   "metadata": {},
   "outputs": [
    {
     "data": {
      "text/html": [
       "<strong>pdf:</strong> 2"
      ],
      "text/latex": [
       "\\textbf{pdf:} 2"
      ],
      "text/markdown": [
       "**pdf:** 2"
      ],
      "text/plain": [
       "pdf \n",
       "  2 "
      ]
     },
     "metadata": {},
     "output_type": "display_data"
    }
   ],
   "source": [
    "#png(\"ej3.png\", width = 600, height = 400)\n",
    "boxplot(as.numeric(datos_5[1,]),as.numeric(datos_5[2,]),\n",
    "        as.numeric(datos_5[3,]),as.numeric(datos_5[4,]),\n",
    "        as.numeric(datos_5[5,]),as.numeric(datos_5[6,]),\n",
    "        col=palette(\"Pastel 2\"), ylab=\"Diferencia de cuadrados de los dados\", \n",
    "        xlab=\"Cantidad de tiros\",\n",
    "        names=c(10, 100, 1000, 10000, 100000, 1000000))\n",
    "abline(h=0.2, col = \"Red\", lty = 5)\n",
    "#dev.off()"
   ]
  },
  {
   "cell_type": "markdown",
   "metadata": {},
   "source": [
    "**Ejercicio 4** *Exactamente una de seis llaves similares abre una cierta puerta. Si pruebas las llaves, una después de otra, ¿cuál es el número esperado de llaves que deber ́a probar antes de tener éxito?.*"
   ]
  },
  {
   "cell_type": "code",
   "execution_count": 38,
   "metadata": {},
   "outputs": [],
   "source": [
    "llave <- function(n) {\n",
    "    int <- c()\n",
    "    for (i in 1:n){\n",
    "        intentos=0\n",
    "        llaves<-sample(c(1,-1,-1,-1,-1,-1))\n",
    "        for (j in 1:6){\n",
    "            if (llaves[j]==1){\n",
    "                break\n",
    "            } else {intentos=intentos+1}\n",
    "   }\n",
    "    int[i] <- intentos    \n",
    "        }\n",
    "    return(mean(int))\n",
    "}\n",
    "\n"
   ]
  },
  {
   "cell_type": "code",
   "execution_count": 48,
   "metadata": {},
   "outputs": [],
   "source": [
    "datos_6 <- data.frame()\n",
    "replicas <- 100\n",
    "suppressMessages(library(doParallel))\n",
    "registerDoParallel(makeCluster(detectCores() - 1))\n",
    "\n",
    "for (pot in 1:6) {\n",
    "    tmax <- 10^pot\n",
    "    resultados <- foreach(i = 1:replicas, .combine=c) %dopar% llave(tmax)\n",
    "    datos_6 <- rbind(datos_6, resultados)\n",
    "}\n",
    "stopImplicitCluster()"
   ]
  },
  {
   "cell_type": "code",
   "execution_count": 51,
   "metadata": {},
   "outputs": [
    {
     "data": {
      "text/html": [
       "<strong>pdf:</strong> 2"
      ],
      "text/latex": [
       "\\textbf{pdf:} 2"
      ],
      "text/markdown": [
       "**pdf:** 2"
      ],
      "text/plain": [
       "pdf \n",
       "  2 "
      ]
     },
     "metadata": {},
     "output_type": "display_data"
    }
   ],
   "source": [
    "png(\"ej4.png\", width = 600, height = 400)\n",
    "boxplot(as.numeric(datos_6[1,]),as.numeric(datos_6[2,]),\n",
    "        as.numeric(datos_6[3,]),as.numeric(datos_6[4,]),\n",
    "        as.numeric(datos_6[5,]),as.numeric(datos_6[6,]),\n",
    "        col=palette(\"Pastel 2\"), ylab=\"Intentos\", \n",
    "        xlab=\"Repeticiones\",\n",
    "        names=c(10, 100, 1000, 10000, 100000, 1000000))\n",
    "abline(h=2.5, col = \"Red\", lty = 5)\n",
    "dev.off()"
   ]
  },
  {
   "cell_type": "markdown",
   "metadata": {},
   "source": [
    "**Ejercicio 5** *Se tiene un examen de opción múltiple. Un problema tiene cuatro posibles respuestas, y exactamente una es correcta. Se le permite al estudiante escoger un subconjunto de las cuatro posibles respuestas como su respuesta. Si escoge un conjunto que contiene la respuesta correcta, el estudiante recibe tres puntos, pero pierde un punto por cada respuesta incorrecta en el subconjunto escogido. Demuestra que si solo adivina un subconjunto de manera uniforme y aleatoria, su puntuaci ́on esperada es cero.*"
   ]
  },
  {
   "cell_type": "code",
   "execution_count": 101,
   "metadata": {},
   "outputs": [],
   "source": [
    "examen <- function(k){\n",
    "    m <- c()\n",
    "    for (j in 1:k){\n",
    "        respuestas <- c(1,-1,-1,-1)\n",
    "        n <- sample(0:4,1)\n",
    "        eleccion <- sample(respuestas,n)\n",
    "        puntaje <- 0\n",
    "        if (n !=0){\n",
    "            for (i in 1:n){\n",
    "                if (eleccion[i]==1){\n",
    "                    puntaje = puntaje + 3\n",
    "                } else {puntaje = puntaje - 1}\n",
    "            }\n",
    "        }\n",
    "        m[j] <- puntaje\n",
    "    }\n",
    "    return(mean(m))\n",
    "}"
   ]
  },
  {
   "cell_type": "code",
   "execution_count": 105,
   "metadata": {},
   "outputs": [
    {
     "data": {
      "text/html": [
       "-0.01"
      ],
      "text/latex": [
       "-0.01"
      ],
      "text/markdown": [
       "-0.01"
      ],
      "text/plain": [
       "[1] -0.01"
      ]
     },
     "metadata": {},
     "output_type": "display_data"
    }
   ],
   "source": [
    "examen(100)"
   ]
  },
  {
   "cell_type": "code",
   "execution_count": 106,
   "metadata": {},
   "outputs": [],
   "source": [
    "datos_7 <- data.frame()\n",
    "replicas <- 100\n",
    "suppressMessages(library(doParallel))\n",
    "registerDoParallel(makeCluster(detectCores() - 1))\n",
    "\n",
    "for (pot in 1:6) {\n",
    "    tmax <- 10^pot\n",
    "    resultados <- foreach(i = 1:replicas, .combine=c) %dopar% examen(tmax)\n",
    "    datos_7 <- rbind(datos_7, resultados)\n",
    "}\n",
    "stopImplicitCluster()"
   ]
  },
  {
   "cell_type": "code",
   "execution_count": 108,
   "metadata": {},
   "outputs": [
    {
     "data": {
      "text/html": [
       "<strong>pdf:</strong> 2"
      ],
      "text/latex": [
       "\\textbf{pdf:} 2"
      ],
      "text/markdown": [
       "**pdf:** 2"
      ],
      "text/plain": [
       "pdf \n",
       "  2 "
      ]
     },
     "metadata": {},
     "output_type": "display_data"
    }
   ],
   "source": [
    "png(\"ej5.png\", width = 600, height = 400)\n",
    "boxplot(as.numeric(datos_7[1,]),as.numeric(datos_7[2,]),\n",
    "        as.numeric(datos_7[3,]),as.numeric(datos_7[4,]),\n",
    "        as.numeric(datos_7[5,]),as.numeric(datos_7[6,]),\n",
    "        col=palette(\"Pastel 2\"), ylab=\"Puntaje\", \n",
    "        xlab=\"Repeticiones\",\n",
    "        names=c(10, 100, 1000, 10000, 100000, 1000000))\n",
    "abline(h=0, col = \"Red\", lty = 5)\n",
    "dev.off()"
   ]
  },
  {
   "cell_type": "code",
   "execution_count": null,
   "metadata": {},
   "outputs": [],
   "source": []
  }
 ],
 "metadata": {
  "kernelspec": {
   "display_name": "R",
   "language": "R",
   "name": "ir"
  },
  "language_info": {
   "codemirror_mode": "r",
   "file_extension": ".r",
   "mimetype": "text/x-r-source",
   "name": "R",
   "pygments_lexer": "r",
   "version": "4.0.2"
  }
 },
 "nbformat": 4,
 "nbformat_minor": 4
}
