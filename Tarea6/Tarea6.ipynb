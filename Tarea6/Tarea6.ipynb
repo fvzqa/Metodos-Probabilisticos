{
 "cells": [
  {
   "cell_type": "markdown",
   "metadata": {},
   "source": [
    "# Tarea 6: Pruebas estadísticas"
   ]
  },
  {
   "cell_type": "markdown",
   "metadata": {},
   "source": [
    "Exportamos los datos del INEGI \"Relación hombres-mujeres por entidad federativa, 1990 a 2015\". La relación se refiere al número de nacimientos mujeres por cada 100 nacimientos hombres."
   ]
  },
  {
   "cell_type": "code",
   "execution_count": 1,
   "metadata": {},
   "outputs": [],
   "source": [
    "hm=read.csv(\"hombres-mujeres.csv\", header = TRUE, sep=\",\")"
   ]
  },
  {
   "cell_type": "markdown",
   "metadata": {},
   "source": [
    "Usamos la siguiente librería para imprimir la tabla en formato Latex para usarla en el reporte."
   ]
  },
  {
   "cell_type": "code",
   "execution_count": 2,
   "metadata": {},
   "outputs": [],
   "source": [
    "library(xtable)"
   ]
  },
  {
   "cell_type": "code",
   "execution_count": 3,
   "metadata": {},
   "outputs": [
    {
     "name": "stdout",
     "output_type": "stream",
     "text": [
      "% latex table generated in R 4.0.2 by xtable 1.8-4 package\n",
      "% Mon Oct 12 15:38:39 2020\n",
      "\\begin{table}[ht]\n",
      "\\centering\n",
      "\\begin{tabular}{rlrrrrrr}\n",
      "  \\hline\n",
      " & X & X1990 & X1995 & X2000 & X2005 & X2010 & X2015 \\\\ \n",
      "  \\hline\n",
      "1 & Total & 96.50 & 97.10 & 95.40 & 94.80 & 95.40 & 94.40 \\\\ \n",
      "  2 & Aguascalientes & 94.80 & 95.90 & 93.60 & 93.70 & 94.80 & 95.20 \\\\ \n",
      "  3 & BC & 100.40 & 101.60 & 101.40 & 101.40 & 101.80 & 99.10 \\\\ \n",
      "  4 & BCS & 103.80 & 103.50 & 104.10 & 104.20 & 104.40 & 101.80 \\\\ \n",
      "  5 & Campeche & 100.90 & 101.10 & 99.40 & 98.00 & 98.30 & 96.20 \\\\ \n",
      "  6 & Coahuila & 98.60 & 98.80 & 98.50 & 98.30 & 98.60 & 98.00 \\\\ \n",
      "   \\hline\n",
      "\\end{tabular}\n",
      "\\end{table}\n"
     ]
    }
   ],
   "source": [
    "print(xtable(head(hm)))"
   ]
  },
  {
   "cell_type": "markdown",
   "metadata": {},
   "source": [
    "Se analiza los datos por columnas y llamamos a cada una de ellas."
   ]
  },
  {
   "cell_type": "code",
   "execution_count": 4,
   "metadata": {},
   "outputs": [],
   "source": [
    "hm90=as.numeric(hm[2:32,2])\n",
    "hm95=as.numeric(hm[2:32,3])\n",
    "hm00=as.numeric(hm[2:32,4])\n",
    "hm05=as.numeric(hm[2:32,5])\n",
    "hm10=as.numeric(hm[2:32,6])\n",
    "hm15=as.numeric(hm[2:32,7])"
   ]
  },
  {
   "cell_type": "markdown",
   "metadata": {},
   "source": [
    "Se realiza lo mismo, con la cantidad de nacimientos separados por sexo, año y entidad federativa."
   ]
  },
  {
   "cell_type": "code",
   "execution_count": 5,
   "metadata": {},
   "outputs": [],
   "source": [
    "natalidad=read.csv(\"Natalidad.csv\", header = TRUE, sep=\",\")"
   ]
  },
  {
   "cell_type": "code",
   "execution_count": 12,
   "metadata": {},
   "outputs": [
    {
     "name": "stdout",
     "output_type": "stream",
     "text": [
      "% latex table generated in R 4.0.2 by xtable 1.8-4 package\n",
      "% Mon Oct 12 15:47:18 2020\n",
      "\\begin{table}[ht]\n",
      "\\centering\n",
      "\\begin{tabular}{rlrrrrrr}\n",
      "  \\hline\n",
      " & X & Total17 & Hombres17 & Mujeres17 & Total18 & Hombres18 & Mujeres18 \\\\ \n",
      "  \\hline\n",
      "1 & Total & 2234039 & 1134349 & 1099674 & 2162535 & 1098674 & 1063826 \\\\ \n",
      "  2 & Aguascalientes & 26955 & 13730 & 13225 & 25938 & 13074 & 12864 \\\\ \n",
      "  3 & BCN & 61840 & 31263 & 30576 & 60174 & 30692 & 29479 \\\\ \n",
      "  4 & BCS & 12573 & 6353 & 6220 & 11917 & 6076 & 5841 \\\\ \n",
      "  5 & Campeche & 17034 & 8678 & 8356 & 16247 & 8266 & 7980 \\\\ \n",
      "  6 & Coahuila  & 58393 & 29618 & 28775 & 56718 & 29018 & 27700 \\\\ \n",
      "   \\hline\n",
      "\\end{tabular}\n",
      "\\end{table}\n"
     ]
    }
   ],
   "source": [
    "print(xtable(head(natalidad[,c(1,2,3,4,6,7,8)])))"
   ]
  },
  {
   "cell_type": "markdown",
   "metadata": {},
   "source": [
    "Se crea un vector de cada columna de la tabla, ```t``` refiere a los nacimientos totales en el año, ```m``` a los nacimientos de mujeres y ```h``` a los de los hombres."
   ]
  },
  {
   "cell_type": "code",
   "execution_count": 7,
   "metadata": {},
   "outputs": [],
   "source": [
    "t17=natalidad[2:32,2]\n",
    "h17=natalidad[2:32,3]\n",
    "m17=natalidad[2:32,4]\n",
    "\n",
    "t18=natalidad[2:32,6]\n",
    "h18=natalidad[2:32,7]\n",
    "m18=natalidad[2:32,8]\n",
    "\n",
    "t19=natalidad[2:32,10]\n",
    "h19=natalidad[2:32,11]\n",
    "m19=natalidad[2:32,12]"
   ]
  },
  {
   "cell_type": "markdown",
   "metadata": {},
   "source": [
    "## Prueba de Shapiro (4)"
   ]
  },
  {
   "cell_type": "markdown",
   "metadata": {},
   "source": [
    "Para utilizar la prueba t (1), se verifica que los datos provengan de una distribución normal, para ello utilizamos una prueba de Shapiro (4)."
   ]
  },
  {
   "cell_type": "code",
   "execution_count": 200,
   "metadata": {},
   "outputs": [
    {
     "data": {
      "text/plain": [
       "\n",
       "\tShapiro-Wilk normality test\n",
       "\n",
       "data:  hm90\n",
       "W = 0.96129, p-value = 0.3155\n"
      ]
     },
     "metadata": {},
     "output_type": "display_data"
    },
    {
     "data": {
      "text/plain": [
       "\n",
       "\tShapiro-Wilk normality test\n",
       "\n",
       "data:  hm95\n",
       "W = 0.98461, p-value = 0.9237\n"
      ]
     },
     "metadata": {},
     "output_type": "display_data"
    },
    {
     "data": {
      "text/plain": [
       "\n",
       "\tShapiro-Wilk normality test\n",
       "\n",
       "data:  hm00\n",
       "W = 0.95029, p-value = 0.159\n"
      ]
     },
     "metadata": {},
     "output_type": "display_data"
    },
    {
     "data": {
      "text/plain": [
       "\n",
       "\tShapiro-Wilk normality test\n",
       "\n",
       "data:  hm05\n",
       "W = 0.95313, p-value = 0.1904\n"
      ]
     },
     "metadata": {},
     "output_type": "display_data"
    },
    {
     "data": {
      "text/plain": [
       "\n",
       "\tShapiro-Wilk normality test\n",
       "\n",
       "data:  hm10\n",
       "W = 0.95508, p-value = 0.2152\n"
      ]
     },
     "metadata": {},
     "output_type": "display_data"
    },
    {
     "data": {
      "text/plain": [
       "\n",
       "\tShapiro-Wilk normality test\n",
       "\n",
       "data:  hm15\n",
       "W = 0.98623, p-value = 0.9516\n"
      ]
     },
     "metadata": {},
     "output_type": "display_data"
    }
   ],
   "source": [
    "shapiro.test(hm90)\n",
    "shapiro.test(hm95)\n",
    "shapiro.test(hm00)\n",
    "shapiro.test(hm05)\n",
    "shapiro.test(hm10)\n",
    "shapiro.test(hm15)"
   ]
  },
  {
   "cell_type": "code",
   "execution_count": 10,
   "metadata": {},
   "outputs": [
    {
     "data": {
      "text/plain": [
       "\n",
       "\tShapiro-Wilk normality test\n",
       "\n",
       "data:  t17\n",
       "W = 0.81039, p-value = 8.086e-05\n"
      ]
     },
     "metadata": {},
     "output_type": "display_data"
    },
    {
     "data": {
      "text/plain": [
       "\n",
       "\tShapiro-Wilk normality test\n",
       "\n",
       "data:  t18\n",
       "W = 0.81942, p-value = 0.0001207\n"
      ]
     },
     "metadata": {},
     "output_type": "display_data"
    },
    {
     "data": {
      "text/plain": [
       "\n",
       "\tShapiro-Wilk normality test\n",
       "\n",
       "data:  t19\n",
       "W = 0.83595, p-value = 0.000258\n"
      ]
     },
     "metadata": {},
     "output_type": "display_data"
    }
   ],
   "source": [
    "shapiro.test(t17)\n",
    "shapiro.test(t18)\n",
    "shapiro.test(t19)"
   ]
  },
  {
   "cell_type": "markdown",
   "metadata": {},
   "source": [
    "## Prueba t para una muestra (1)"
   ]
  },
  {
   "cell_type": "markdown",
   "metadata": {},
   "source": [
    "Se analizan seis años diferentes, por los valores p obtenidos, se concluye que los seis vectores de datos provienen de una distribución normal y se puede proceder a realizar la prueba t."
   ]
  },
  {
   "cell_type": "code",
   "execution_count": 315,
   "metadata": {},
   "outputs": [
    {
     "data": {
      "text/plain": [
       "\n",
       "\tOne Sample t-test\n",
       "\n",
       "data:  hm90\n",
       "t = 0.53216, df = 30, p-value = 0.5985\n",
       "alternative hypothesis: true mean is not equal to 97.5\n",
       "95 percent confidence interval:\n",
       " 96.66700 98.92009\n",
       "sample estimates:\n",
       "mean of x \n",
       " 97.79355 \n"
      ]
     },
     "metadata": {},
     "output_type": "display_data"
    },
    {
     "data": {
      "text/plain": [
       "\n",
       "\tOne Sample t-test\n",
       "\n",
       "data:  hm95\n",
       "t = 1.5044, df = 30, p-value = 0.1429\n",
       "alternative hypothesis: true mean is not equal to 97.5\n",
       "95 percent confidence interval:\n",
       " 97.23011 99.27956\n",
       "sample estimates:\n",
       "mean of x \n",
       " 98.25484 \n"
      ]
     },
     "metadata": {},
     "output_type": "display_data"
    },
    {
     "data": {
      "text/plain": [
       "\n",
       "\tOne Sample t-test\n",
       "\n",
       "data:  hm00\n",
       "t = -1.4603, df = 30, p-value = 0.1546\n",
       "alternative hypothesis: true mean is not equal to 97.5\n",
       "95 percent confidence interval:\n",
       " 95.33362 97.85993\n",
       "sample estimates:\n",
       "mean of x \n",
       " 96.59677 \n"
      ]
     },
     "metadata": {},
     "output_type": "display_data"
    },
    {
     "data": {
      "text/plain": [
       "\n",
       "\tOne Sample t-test\n",
       "\n",
       "data:  hm05\n",
       "t = 0.57644, df = 30, p-value = 0.5686\n",
       "alternative hypothesis: true mean is not equal to 95.5\n",
       "95 percent confidence interval:\n",
       " 94.57306 97.15597\n",
       "sample estimates:\n",
       "mean of x \n",
       " 95.86452 \n"
      ]
     },
     "metadata": {},
     "output_type": "display_data"
    },
    {
     "data": {
      "text/plain": [
       "\n",
       "\tOne Sample t-test\n",
       "\n",
       "data:  hm10\n",
       "t = 0.063733, df = 30, p-value = 0.9496\n",
       "alternative hypothesis: true mean is not equal to 96.5\n",
       "95 percent confidence interval:\n",
       " 95.29830 97.77912\n",
       "sample estimates:\n",
       "mean of x \n",
       " 96.53871 \n"
      ]
     },
     "metadata": {},
     "output_type": "display_data"
    },
    {
     "data": {
      "text/plain": [
       "\n",
       "\tOne Sample t-test\n",
       "\n",
       "data:  hm15\n",
       "t = -0.17702, df = 30, p-value = 0.8607\n",
       "alternative hypothesis: true mean is not equal to 95.5\n",
       "95 percent confidence interval:\n",
       " 94.36766 96.45170\n",
       "sample estimates:\n",
       "mean of x \n",
       " 95.40968 \n"
      ]
     },
     "metadata": {},
     "output_type": "display_data"
    }
   ],
   "source": [
    "t.test(hm90, mu=97.5)\n",
    "t.test(hm95, mu=97.5)\n",
    "t.test(hm00, mu=97.5)\n",
    "t.test(hm05, mu=95.5)\n",
    "t.test(hm10, mu=96.5)\n",
    "t.test(hm15, mu=95.5)"
   ]
  },
  {
   "cell_type": "markdown",
   "metadata": {},
   "source": [
    "## Prueba t para dos muestras (3.1)"
   ]
  },
  {
   "cell_type": "code",
   "execution_count": 323,
   "metadata": {},
   "outputs": [
    {
     "data": {
      "text/plain": [
       "\n",
       "\tWelch Two Sample t-test\n",
       "\n",
       "data:  hm90 and hm95\n",
       "t = -0.61862, df = 59.469, p-value = 0.5385\n",
       "alternative hypothesis: true difference in means is not equal to 0\n",
       "95 percent confidence interval:\n",
       " -1.953145  1.030565\n",
       "sample estimates:\n",
       "mean of x mean of y \n",
       " 97.79355  98.25484 \n"
      ]
     },
     "metadata": {},
     "output_type": "display_data"
    },
    {
     "data": {
      "text/plain": [
       "\n",
       "\tWelch Two Sample t-test\n",
       "\n",
       "data:  hm90 and hm00\n",
       "t = 1.4441, df = 59.231, p-value = 0.154\n",
       "alternative hypothesis: true difference in means is not equal to 0\n",
       "95 percent confidence interval:\n",
       " -0.4614151  2.8549635\n",
       "sample estimates:\n",
       "mean of x mean of y \n",
       " 97.79355  96.59677 \n"
      ]
     },
     "metadata": {},
     "output_type": "display_data"
    }
   ],
   "source": [
    "t.test(hm90, hm95)\n",
    "t.test(hm90, hm00)"
   ]
  },
  {
   "cell_type": "markdown",
   "metadata": {},
   "source": [
    "## Prueba Kolmogorov-Smirnov (5)"
   ]
  },
  {
   "cell_type": "markdown",
   "metadata": {},
   "source": [
    "Esta prueba es para checar si dos muestras siguen la mismas distribución."
   ]
  },
  {
   "cell_type": "code",
   "execution_count": 350,
   "metadata": {},
   "outputs": [
    {
     "name": "stderr",
     "output_type": "stream",
     "text": [
      "Warning message in ks.test(hm90, hm95):\n",
      "“cannot compute exact p-value with ties”\n"
     ]
    },
    {
     "data": {
      "text/plain": [
       "\n",
       "\tTwo-sample Kolmogorov-Smirnov test\n",
       "\n",
       "data:  hm90 and hm95\n",
       "D = 0.12903, p-value = 0.9586\n",
       "alternative hypothesis: two-sided\n"
      ]
     },
     "metadata": {},
     "output_type": "display_data"
    },
    {
     "name": "stderr",
     "output_type": "stream",
     "text": [
      "Warning message in ks.test(hm95, hm00):\n",
      "“cannot compute exact p-value with ties”\n"
     ]
    },
    {
     "data": {
      "text/plain": [
       "\n",
       "\tTwo-sample Kolmogorov-Smirnov test\n",
       "\n",
       "data:  hm95 and hm00\n",
       "D = 0.32258, p-value = 0.07944\n",
       "alternative hypothesis: two-sided\n"
      ]
     },
     "metadata": {},
     "output_type": "display_data"
    },
    {
     "name": "stderr",
     "output_type": "stream",
     "text": [
      "Warning message in ks.test(hm00, hm05):\n",
      "“cannot compute exact p-value with ties”\n"
     ]
    },
    {
     "data": {
      "text/plain": [
       "\n",
       "\tTwo-sample Kolmogorov-Smirnov test\n",
       "\n",
       "data:  hm00 and hm05\n",
       "D = 0.19355, p-value = 0.607\n",
       "alternative hypothesis: two-sided\n"
      ]
     },
     "metadata": {},
     "output_type": "display_data"
    },
    {
     "name": "stderr",
     "output_type": "stream",
     "text": [
      "Warning message in ks.test(hm05, hm10):\n",
      "“cannot compute exact p-value with ties”\n"
     ]
    },
    {
     "data": {
      "text/plain": [
       "\n",
       "\tTwo-sample Kolmogorov-Smirnov test\n",
       "\n",
       "data:  hm05 and hm10\n",
       "D = 0.16129, p-value = 0.8148\n",
       "alternative hypothesis: two-sided\n"
      ]
     },
     "metadata": {},
     "output_type": "display_data"
    },
    {
     "name": "stderr",
     "output_type": "stream",
     "text": [
      "Warning message in ks.test(hm10, hm15):\n",
      "“cannot compute exact p-value with ties”\n"
     ]
    },
    {
     "data": {
      "text/plain": [
       "\n",
       "\tTwo-sample Kolmogorov-Smirnov test\n",
       "\n",
       "data:  hm10 and hm15\n",
       "D = 0.19355, p-value = 0.607\n",
       "alternative hypothesis: two-sided\n"
      ]
     },
     "metadata": {},
     "output_type": "display_data"
    }
   ],
   "source": [
    "ks.test(hm90,hm95)\n",
    "ks.test(hm95,hm00)\n",
    "ks.test(hm00,hm05)\n",
    "ks.test(hm05,hm10)\n",
    "ks.test(hm10,hm15)"
   ]
  },
  {
   "cell_type": "markdown",
   "metadata": {},
   "source": [
    "## Prueba de Fisher (6)"
   ]
  },
  {
   "cell_type": "markdown",
   "metadata": {},
   "source": [
    "Esta prueba es para verificar si dos muestras tienen la misma variancia."
   ]
  },
  {
   "cell_type": "code",
   "execution_count": 351,
   "metadata": {},
   "outputs": [
    {
     "data": {
      "text/plain": [
       "\n",
       "\tF test to compare two variances\n",
       "\n",
       "data:  hm90 and hm95\n",
       "F = 1.2086, num df = 30, denom df = 30, p-value = 0.6071\n",
       "alternative hypothesis: true ratio of variances is not equal to 1\n",
       "95 percent confidence interval:\n",
       " 0.5827565 2.5065773\n",
       "sample estimates:\n",
       "ratio of variances \n",
       "          1.208604 \n"
      ]
     },
     "metadata": {},
     "output_type": "display_data"
    },
    {
     "data": {
      "text/plain": [
       "\n",
       "\tF test to compare two variances\n",
       "\n",
       "data:  hm95 and hm00\n",
       "F = 0.65811, num df = 30, denom df = 30, p-value = 0.2576\n",
       "alternative hypothesis: true ratio of variances is not equal to 1\n",
       "95 percent confidence interval:\n",
       " 0.3173246 1.3648901\n",
       "sample estimates:\n",
       "ratio of variances \n",
       "         0.6581133 \n"
      ]
     },
     "metadata": {},
     "output_type": "display_data"
    },
    {
     "data": {
      "text/plain": [
       "\n",
       "\tF test to compare two variances\n",
       "\n",
       "data:  hm00 and hm05\n",
       "F = 0.95665, num df = 30, denom df = 30, p-value = 0.9042\n",
       "alternative hypothesis: true ratio of variances is not equal to 1\n",
       "95 percent confidence interval:\n",
       " 0.4612712 1.9840393\n",
       "sample estimates:\n",
       "ratio of variances \n",
       "         0.9566505 \n"
      ]
     },
     "metadata": {},
     "output_type": "display_data"
    },
    {
     "data": {
      "text/plain": [
       "\n",
       "\tF test to compare two variances\n",
       "\n",
       "data:  hm05 and hm10\n",
       "F = 1.084, num df = 30, denom df = 30, p-value = 0.8266\n",
       "alternative hypothesis: true ratio of variances is not equal to 1\n",
       "95 percent confidence interval:\n",
       " 0.5226746 2.2481504\n",
       "sample estimates:\n",
       "ratio of variances \n",
       "          1.083998 \n"
      ]
     },
     "metadata": {},
     "output_type": "display_data"
    },
    {
     "data": {
      "text/plain": [
       "\n",
       "\tF test to compare two variances\n",
       "\n",
       "data:  hm10 and hm15\n",
       "F = 1.417, num df = 30, denom df = 30, p-value = 0.345\n",
       "alternative hypothesis: true ratio of variances is not equal to 1\n",
       "95 percent confidence interval:\n",
       " 0.6832549 2.9388450\n",
       "sample estimates:\n",
       "ratio of variances \n",
       "          1.417032 \n"
      ]
     },
     "metadata": {},
     "output_type": "display_data"
    }
   ],
   "source": [
    "var.test(hm90,hm95)\n",
    "var.test(hm95,hm00)\n",
    "var.test(hm00,hm05)\n",
    "var.test(hm05,hm10)\n",
    "var.test(hm10,hm15)"
   ]
  },
  {
   "cell_type": "code",
   "execution_count": 324,
   "metadata": {},
   "outputs": [
    {
     "name": "stderr",
     "output_type": "stream",
     "text": [
      "Warning message in chisq.test(table(hm10, hm05), correct = TRUE):\n",
      "“Chi-squared approximation may be incorrect”\n"
     ]
    },
    {
     "data": {
      "text/plain": [
       "\n",
       "\tPearson's Chi-squared test\n",
       "\n",
       "data:  table(hm10, hm05)\n",
       "X-squared = 697.5, df = 675, p-value = 0.2664\n"
      ]
     },
     "metadata": {},
     "output_type": "display_data"
    }
   ],
   "source": [
    "chisq.test(table(hm10,hm05), correct = TRUE)"
   ]
  },
  {
   "cell_type": "code",
   "execution_count": 219,
   "metadata": {},
   "outputs": [
    {
     "data": {
      "text/plain": [
       "Number of cases in table: 31 \n",
       "Number of factors: 2 \n",
       "Test for independence of all factors:\n",
       "\tChisq = 697.5, df = 675, p-value = 0.2664\n",
       "\tChi-squared approximation may be incorrect"
      ]
     },
     "metadata": {},
     "output_type": "display_data"
    }
   ],
   "source": [
    "summary(table(hm10,hm05))"
   ]
  },
  {
   "cell_type": "code",
   "execution_count": 346,
   "metadata": {},
   "outputs": [
    {
     "data": {
      "text/plain": [
       "\n",
       "\tPearson's product-moment correlation\n",
       "\n",
       "data:  hm90 and hm00\n",
       "t = 16.011, df = 29, p-value = 6.169e-16\n",
       "alternative hypothesis: true correlation is not equal to 0\n",
       "95 percent confidence interval:\n",
       " 0.8936072 0.9747830\n",
       "sample estimates:\n",
       "      cor \n",
       "0.9478267 \n"
      ]
     },
     "metadata": {},
     "output_type": "display_data"
    }
   ],
   "source": [
    "cor.test(hm90,hm00)"
   ]
  },
  {
   "cell_type": "markdown",
   "metadata": {},
   "source": [
    "La prueba Wilcoxon (2), se utiliza cuando la distribución normal no  es asumida. Se analiza los nacimientos en los años 2017 a 2019."
   ]
  },
  {
   "cell_type": "code",
   "execution_count": 329,
   "metadata": {},
   "outputs": [
    {
     "data": {
      "text/plain": [
       "\n",
       "\tWilcoxon signed rank exact test\n",
       "\n",
       "data:  t17\n",
       "V = 249, p-value = 0.9923\n",
       "alternative hypothesis: true location is not equal to 62500\n",
       "95 percent confidence interval:\n",
       " 45220.5 83393.0\n",
       "sample estimates:\n",
       "(pseudo)median \n",
       "       62627.5 \n"
      ]
     },
     "metadata": {},
     "output_type": "display_data"
    },
    {
     "data": {
      "text/plain": [
       "\n",
       "\tWilcoxon signed rank exact test\n",
       "\n",
       "data:  t18\n",
       "V = 240, p-value = 0.8848\n",
       "alternative hypothesis: true location is not equal to 62500\n",
       "95 percent confidence interval:\n",
       " 43471.5 80415.0\n",
       "sample estimates:\n",
       "(pseudo)median \n",
       "      60809.75 \n"
      ]
     },
     "metadata": {},
     "output_type": "display_data"
    },
    {
     "data": {
      "text/plain": [
       "\n",
       "\tWilcoxon signed rank exact test\n",
       "\n",
       "data:  t19\n",
       "V = 230, p-value = 0.7352\n",
       "alternative hypothesis: true location is not equal to 62500\n",
       "95 percent confidence interval:\n",
       " 42946.5 78134.0\n",
       "sample estimates:\n",
       "(pseudo)median \n",
       "         60115 \n"
      ]
     },
     "metadata": {},
     "output_type": "display_data"
    }
   ],
   "source": [
    "wilcox.test(t17, mu=62500, conf.int = TRUE)\n",
    "wilcox.test(t18, mu=62500, conf.int = TRUE)\n",
    "wilcox.test(t19, mu=62500, conf.int = TRUE)"
   ]
  },
  {
   "cell_type": "markdown",
   "metadata": {},
   "source": [
    "Prueba de Wilcoxon en dos muestras (3)"
   ]
  },
  {
   "cell_type": "code",
   "execution_count": 334,
   "metadata": {},
   "outputs": [
    {
     "data": {
      "text/plain": [
       "\n",
       "\tWilcoxon rank sum exact test\n",
       "\n",
       "data:  t17 and t18\n",
       "W = 502, p-value = 0.3846\n",
       "alternative hypothesis: true location shift is greater than 0\n"
      ]
     },
     "metadata": {},
     "output_type": "display_data"
    },
    {
     "data": {
      "text/plain": [
       "\n",
       "\tWilcoxon rank sum exact test\n",
       "\n",
       "data:  t17 and t19\n",
       "W = 511, p-value = 0.3374\n",
       "alternative hypothesis: true location shift is greater than 0\n"
      ]
     },
     "metadata": {},
     "output_type": "display_data"
    },
    {
     "data": {
      "text/plain": [
       "\n",
       "\tWilcoxon rank sum exact test\n",
       "\n",
       "data:  t18 and t19\n",
       "W = 498, p-value = 0.4061\n",
       "alternative hypothesis: true location shift is greater than 0\n"
      ]
     },
     "metadata": {},
     "output_type": "display_data"
    }
   ],
   "source": [
    "wilcox.test(t17,t18, alternative=\"g\")\n",
    "wilcox.test(t17,t19, alternative=\"g\")\n",
    "wilcox.test(t18,t19, alternative=\"g\")"
   ]
  },
  {
   "cell_type": "markdown",
   "metadata": {},
   "source": [
    "## Prueba Chi-cuadrada"
   ]
  },
  {
   "cell_type": "code",
   "execution_count": 338,
   "metadata": {},
   "outputs": [
    {
     "name": "stderr",
     "output_type": "stream",
     "text": [
      "Warning message in chisq.test(table(t17, h17), correct = TRUE):\n",
      "“Chi-squared approximation may be incorrect”\n"
     ]
    },
    {
     "data": {
      "text/plain": [
       "\n",
       "\tPearson's Chi-squared test\n",
       "\n",
       "data:  table(t17, h17)\n",
       "X-squared = 930, df = 900, p-value = 0.2373\n"
      ]
     },
     "metadata": {},
     "output_type": "display_data"
    }
   ],
   "source": [
    "chisq.test(table(t17,h17), correct=TRUE)"
   ]
  },
  {
   "cell_type": "code",
   "execution_count": 255,
   "metadata": {},
   "outputs": [
    {
     "data": {
      "text/plain": [
       "\n",
       "\tTwo-sample Kolmogorov-Smirnov test\n",
       "\n",
       "data:  m17 and m18\n",
       "D = 0.096774, p-value = 0.9991\n",
       "alternative hypothesis: two-sided\n"
      ]
     },
     "metadata": {},
     "output_type": "display_data"
    },
    {
     "data": {
      "text/plain": [
       "\n",
       "\tTwo-sample Kolmogorov-Smirnov test\n",
       "\n",
       "data:  m17 and m19\n",
       "D = 0.12903, p-value = 0.9634\n",
       "alternative hypothesis: two-sided\n"
      ]
     },
     "metadata": {},
     "output_type": "display_data"
    },
    {
     "data": {
      "text/plain": [
       "\n",
       "\tTwo-sample Kolmogorov-Smirnov test\n",
       "\n",
       "data:  m19 and m18\n",
       "D = 0.096774, p-value = 0.9991\n",
       "alternative hypothesis: two-sided\n"
      ]
     },
     "metadata": {},
     "output_type": "display_data"
    }
   ],
   "source": [
    "ks.test(m17,m18)\n",
    "ks.test(m17,m19)\n",
    "ks.test(m19,m18)"
   ]
  },
  {
   "cell_type": "code",
   "execution_count": 256,
   "metadata": {},
   "outputs": [
    {
     "data": {
      "text/plain": [
       "\n",
       "\tTwo-sample Kolmogorov-Smirnov test\n",
       "\n",
       "data:  h17 and h18\n",
       "D = 0.096774, p-value = 0.9991\n",
       "alternative hypothesis: two-sided\n"
      ]
     },
     "metadata": {},
     "output_type": "display_data"
    },
    {
     "data": {
      "text/plain": [
       "\n",
       "\tTwo-sample Kolmogorov-Smirnov test\n",
       "\n",
       "data:  h17 and h19\n",
       "D = 0.096774, p-value = 0.9991\n",
       "alternative hypothesis: two-sided\n"
      ]
     },
     "metadata": {},
     "output_type": "display_data"
    },
    {
     "data": {
      "text/plain": [
       "\n",
       "\tTwo-sample Kolmogorov-Smirnov test\n",
       "\n",
       "data:  h19 and h18\n",
       "D = 0.096774, p-value = 0.9991\n",
       "alternative hypothesis: two-sided\n"
      ]
     },
     "metadata": {},
     "output_type": "display_data"
    }
   ],
   "source": [
    "ks.test(h17,h18)\n",
    "ks.test(h17,h19)\n",
    "ks.test(h19,h18)"
   ]
  },
  {
   "cell_type": "markdown",
   "metadata": {},
   "source": [
    "## Prueba Kolmogorov-Smirnov"
   ]
  },
  {
   "cell_type": "code",
   "execution_count": 261,
   "metadata": {},
   "outputs": [
    {
     "data": {
      "text/plain": [
       "\n",
       "\tTwo-sample Kolmogorov-Smirnov test\n",
       "\n",
       "data:  h19 and m19\n",
       "D = 0.096774, p-value = 0.9991\n",
       "alternative hypothesis: two-sided\n"
      ]
     },
     "metadata": {},
     "output_type": "display_data"
    },
    {
     "data": {
      "text/plain": [
       "\n",
       "\tTwo-sample Kolmogorov-Smirnov test\n",
       "\n",
       "data:  h18 and m18\n",
       "D = 0.096774, p-value = 0.9991\n",
       "alternative hypothesis: two-sided\n"
      ]
     },
     "metadata": {},
     "output_type": "display_data"
    },
    {
     "data": {
      "text/plain": [
       "\n",
       "\tTwo-sample Kolmogorov-Smirnov test\n",
       "\n",
       "data:  h17 and m17\n",
       "D = 0.064516, p-value = 1\n",
       "alternative hypothesis: two-sided\n"
      ]
     },
     "metadata": {},
     "output_type": "display_data"
    }
   ],
   "source": [
    "ks.test(19,m19)\n",
    "ks.test(h18,m18)\n",
    "ks.test(h17,m17)"
   ]
  },
  {
   "cell_type": "code",
   "execution_count": 357,
   "metadata": {},
   "outputs": [
    {
     "data": {
      "text/plain": [
       "\n",
       "\tPearson's product-moment correlation\n",
       "\n",
       "data:  h18 and m18\n",
       "t = 481.59, df = 29, p-value < 2.2e-16\n",
       "alternative hypothesis: true correlation is not equal to 0\n",
       "95 percent confidence interval:\n",
       " 0.9998689 0.9999702\n",
       "sample estimates:\n",
       "      cor \n",
       "0.9999375 \n"
      ]
     },
     "metadata": {},
     "output_type": "display_data"
    }
   ],
   "source": [
    "cor.test(h18,m18)"
   ]
  },
  {
   "cell_type": "code",
   "execution_count": 356,
   "metadata": {},
   "outputs": [
    {
     "data": {
      "text/plain": [
       "\n",
       "\tF test to compare two variances\n",
       "\n",
       "data:  h17 and m17\n",
       "F = 1.0675, num df = 30, denom df = 30, p-value = 0.8592\n",
       "alternative hypothesis: true ratio of variances is not equal to 1\n",
       "95 percent confidence interval:\n",
       " 0.5147236 2.2139511\n",
       "sample estimates:\n",
       "ratio of variances \n",
       "          1.067508 \n"
      ]
     },
     "metadata": {},
     "output_type": "display_data"
    }
   ],
   "source": [
    "var.test(h17,m17)"
   ]
  }
 ],
 "metadata": {
  "kernelspec": {
   "display_name": "R",
   "language": "R",
   "name": "ir"
  },
  "language_info": {
   "codemirror_mode": "r",
   "file_extension": ".r",
   "mimetype": "text/x-r-source",
   "name": "R",
   "pygments_lexer": "r",
   "version": "4.0.2"
  }
 },
 "nbformat": 4,
 "nbformat_minor": 4
}
