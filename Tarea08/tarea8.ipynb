{
 "cells": [
  {
   "cell_type": "code",
   "execution_count": 1,
   "metadata": {},
   "outputs": [],
   "source": [
    "prob <- function(p, s, e){\n",
    "    P <- (s*p) / (s*p + (1-e)*(1-p))\n",
    "\n",
    "    return(P)\n",
    "}"
   ]
  },
  {
   "cell_type": "code",
   "execution_count": 2,
   "metadata": {},
   "outputs": [
    {
     "data": {
      "text/html": [
       "0.0833333333333334"
      ],
      "text/latex": [
       "0.0833333333333334"
      ],
      "text/markdown": [
       "0.0833333333333334"
      ],
      "text/plain": [
       "[1] 0.08333333"
      ]
     },
     "metadata": {},
     "output_type": "display_data"
    }
   ],
   "source": [
    "prob(0.01,0.9,0.9)"
   ]
  },
  {
   "cell_type": "code",
   "execution_count": 4,
   "metadata": {},
   "outputs": [],
   "source": [
    "p1 <- .014 #casos confirmados / poblacion\n",
    "p2 <- .4 #positividad\n",
    "p3 <- .2 #mitad de la positividad\n",
    "p4 <- .001 #casos ACTIVOS / poblacion"
   ]
  },
  {
   "cell_type": "code",
   "execution_count": 45,
   "metadata": {},
   "outputs": [
    {
     "data": {
      "text/html": [
       "<strong>pdf:</strong> 2"
      ],
      "text/latex": [
       "\\textbf{pdf:} 2"
      ],
      "text/markdown": [
       "**pdf:** 2"
      ],
      "text/plain": [
       "pdf \n",
       "  2 "
      ]
     },
     "metadata": {},
     "output_type": "display_data"
    }
   ],
   "source": [
    "sensibilidad <- seq(0.65, 1,0.0005)\n",
    "\n",
    "y <- numeric()\n",
    "for(i in sensibilidad){\n",
    "    y <- c(y, prob(p1,i,0.95))\n",
    "}\n",
    "\n",
    "png(file=\"p1_sens.png\",\n",
    "    width=1500, height=1000, res = 200)\n",
    "plot(sens,y, xlab=\"Sensibilidad\",\n",
    "    ylab=\"P(Enfermo|+)\")\n",
    "dev.off()"
   ]
  },
  {
   "cell_type": "code",
   "execution_count": 46,
   "metadata": {},
   "outputs": [
    {
     "data": {
      "text/html": [
       "<strong>pdf:</strong> 2"
      ],
      "text/latex": [
       "\\textbf{pdf:} 2"
      ],
      "text/markdown": [
       "**pdf:** 2"
      ],
      "text/plain": [
       "pdf \n",
       "  2 "
      ]
     },
     "metadata": {},
     "output_type": "display_data"
    }
   ],
   "source": [
    "sensibilidad <- seq(0.65, 1, 0.0005)\n",
    "\n",
    "y <- numeric()\n",
    "for(i in sensibilidad){\n",
    "    y <- c(y, prob(p2,i,0.95))\n",
    "}\n",
    "\n",
    "png(file=\"p2_sens.png\",\n",
    "    width=1500, height=1000, res = 200)\n",
    "plot(sens,y, xlab=\"Sensibilidad\",\n",
    "    ylab=\"P(Enfermo|+)\")\n",
    "dev.off()"
   ]
  },
  {
   "cell_type": "code",
   "execution_count": 47,
   "metadata": {},
   "outputs": [
    {
     "data": {
      "text/html": [
       "<strong>pdf:</strong> 2"
      ],
      "text/latex": [
       "\\textbf{pdf:} 2"
      ],
      "text/markdown": [
       "**pdf:** 2"
      ],
      "text/plain": [
       "pdf \n",
       "  2 "
      ]
     },
     "metadata": {},
     "output_type": "display_data"
    }
   ],
   "source": [
    "sens <- seq(0.65, 1, 0.0005)\n",
    "\n",
    "y <- numeric()\n",
    "for(i in sensibilidad){\n",
    "    y <- c(y, prob(p3, i, 0.95))\n",
    "}\n",
    "\n",
    "png(file=\"p3_sens.png\",\n",
    "    width=1500, height=1000, res = 200)\n",
    "plot(sens,y, xlab=\"Sensibilidad\",\n",
    "    ylab=\"P(Enfermo|+)\")\n",
    "dev.off()"
   ]
  },
  {
   "cell_type": "code",
   "execution_count": 48,
   "metadata": {},
   "outputs": [
    {
     "data": {
      "text/html": [
       "<strong>pdf:</strong> 2"
      ],
      "text/latex": [
       "\\textbf{pdf:} 2"
      ],
      "text/markdown": [
       "**pdf:** 2"
      ],
      "text/plain": [
       "pdf \n",
       "  2 "
      ]
     },
     "metadata": {},
     "output_type": "display_data"
    }
   ],
   "source": [
    "sensibilidad <- seq(0.65, 1, 0.0005)\n",
    "\n",
    "y <- numeric()\n",
    "for(i in sensibilidad){\n",
    "    y <- c(y, prob(p4, i, 0.95))\n",
    "}\n",
    "\n",
    "\n",
    "png(file=\"p4_sens.png\",\n",
    "    width=1500, height=1000, res = 200)\n",
    "plot(sens,y, xlab=\"Sensibilidad\",\n",
    "    ylab=\"P(Enfermo|+)\")\n",
    "dev.off()"
   ]
  },
  {
   "cell_type": "code",
   "execution_count": 49,
   "metadata": {},
   "outputs": [
    {
     "data": {
      "text/html": [
       "<strong>pdf:</strong> 2"
      ],
      "text/latex": [
       "\\textbf{pdf:} 2"
      ],
      "text/markdown": [
       "**pdf:** 2"
      ],
      "text/plain": [
       "pdf \n",
       "  2 "
      ]
     },
     "metadata": {},
     "output_type": "display_data"
    }
   ],
   "source": [
    "especificidad <- seq(0.65, 1, 0.0005)\n",
    "\n",
    "y <- numeric()\n",
    "for(i in especificidad){\n",
    "    y <- c(y, prob(p1, 0.95, i))\n",
    "}\n",
    "\n",
    "png(file=\"p1_spec.png\",\n",
    "    width=1500, height=1000, res = 200)\n",
    "plot(spec,y, xlab=\"Especificidad\",\n",
    "    ylab=\"P(Enfermo|+)\")\n",
    "dev.off()"
   ]
  },
  {
   "cell_type": "code",
   "execution_count": 50,
   "metadata": {},
   "outputs": [
    {
     "data": {
      "text/html": [
       "<strong>pdf:</strong> 2"
      ],
      "text/latex": [
       "\\textbf{pdf:} 2"
      ],
      "text/markdown": [
       "**pdf:** 2"
      ],
      "text/plain": [
       "pdf \n",
       "  2 "
      ]
     },
     "metadata": {},
     "output_type": "display_data"
    }
   ],
   "source": [
    "especificidad <- seq(0.65, 1, 0.0005)\n",
    "\n",
    "y <- numeric()\n",
    "for(i in especificidad){\n",
    "    y <- c(y, prob(p2, 0.95, i))\n",
    "}\n",
    "\n",
    "\n",
    "png(file=\"p2_spec.png\",\n",
    "    width=1500, height=1000, res = 200)\n",
    "plot(spec,y, xlab=\"Especificidad\",\n",
    "    ylab=\"P(Enfermo|+)\")\n",
    "dev.off()"
   ]
  },
  {
   "cell_type": "code",
   "execution_count": 51,
   "metadata": {},
   "outputs": [
    {
     "data": {
      "text/html": [
       "<strong>pdf:</strong> 2"
      ],
      "text/latex": [
       "\\textbf{pdf:} 2"
      ],
      "text/markdown": [
       "**pdf:** 2"
      ],
      "text/plain": [
       "pdf \n",
       "  2 "
      ]
     },
     "metadata": {},
     "output_type": "display_data"
    }
   ],
   "source": [
    "especificidad <- seq(0.65, 1, 0.0005)\n",
    "\n",
    "y <- numeric()\n",
    "for(i in especificidad){\n",
    "    y <- c(y, prob(p3, 0.95, i))\n",
    "}\n",
    "\n",
    "#Sensitivity varies, and Specificity fixed at 95%.\n",
    "png(file=\"p3_spec.png\",\n",
    "    width=1500, height=1000, res = 200)\n",
    "plot(spec,y, xlab=\"Especificidad\",\n",
    "    ylab=\"P(Enfermo|+)\")\n",
    "dev.off()"
   ]
  },
  {
   "cell_type": "code",
   "execution_count": 52,
   "metadata": {},
   "outputs": [
    {
     "data": {
      "text/html": [
       "<strong>pdf:</strong> 2"
      ],
      "text/latex": [
       "\\textbf{pdf:} 2"
      ],
      "text/markdown": [
       "**pdf:** 2"
      ],
      "text/plain": [
       "pdf \n",
       "  2 "
      ]
     },
     "metadata": {},
     "output_type": "display_data"
    }
   ],
   "source": [
    "especificidad <- seq(0.65, 1, 0.0005)\n",
    "\n",
    "y <- numeric()\n",
    "for(i in especificidad){\n",
    "    y <- c(y, prob(p4, 0.95, i))\n",
    "}\n",
    "\n",
    "#Sensitivity varies, and Specificity fixed at 95%.\n",
    "png(file=\"p4_spec.png\",\n",
    "    width=1500, height=1000, res = 200)\n",
    "plot(spec,y, xlab=\"Especificidad\",\n",
    "    ylab=\"P(Enfermo|+)\")\n",
    "dev.off()"
   ]
  }
 ],
 "metadata": {
  "kernelspec": {
   "display_name": "R",
   "language": "R",
   "name": "ir"
  },
  "language_info": {
   "codemirror_mode": "r",
   "file_extension": ".r",
   "mimetype": "text/x-r-source",
   "name": "R",
   "pygments_lexer": "r",
   "version": "4.0.2"
  }
 },
 "nbformat": 4,
 "nbformat_minor": 4
}
